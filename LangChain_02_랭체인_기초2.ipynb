{
  "nbformat": 4,
  "nbformat_minor": 0,
  "metadata": {
    "colab": {
      "private_outputs": true,
      "provenance": []
    },
    "kernelspec": {
      "name": "python3",
      "display_name": "Python 3"
    },
    "language_info": {
      "name": "python"
    }
  },
  "cells": [
    {
      "cell_type": "code",
      "execution_count": null,
      "metadata": {
        "collapsed": true,
        "id": "32WWfUi4u5iC"
      },
      "outputs": [],
      "source": [
        "#랭체인 설치\n",
        "!pip install langchain\n",
        "#langchain이 openai를 활용해서 사용하게 하기위한 라이브러리\n",
        "!pip install langchain_openai\n",
        "#langchain 자체 라이브러리\n",
        "!pip install openai"
      ]
    },
    {
      "cell_type": "code",
      "source": [
        "import os\n",
        "import openai\n",
        "\n",
        "#이전의 방식은 소스코드를 내가 업로드 했을 떄, 다른 사람들이 내 키를 볼 수 있음\n",
        "#'이름'==userdata.get(이름),값=내 open_api_key\n",
        "from google.colab import userdata\n",
        "os.environ['OPENAI_API_KEY']=userdata.get('OPEN_AI_KEY')\n",
        "\n",
        "openai.api_key=os.getenv('OPENAI_API_KEY')"
      ],
      "metadata": {
        "id": "vPCZd8Z-vOlq"
      },
      "execution_count": null,
      "outputs": []
    },
    {
      "cell_type": "markdown",
      "source": [
        "##체인\n",
        "\n",
        "-  | (체인)\n",
        "- 여러개의 작업을 연결하여 수행\n",
        "- 여러번의 정의가 필요하지 않음 -> 한번에 엮어서 순차적으로 수행가능"
      ],
      "metadata": {
        "id": "gbON-P5Ix3ip"
      }
    },
    {
      "cell_type": "code",
      "source": [
        "#message.choice[0].content X-> 내용만 가져올 수 있게 도와주는 함수\n",
        "from langchain_core.output_parsers import StrOutputParser\n",
        "\n",
        "#대화형 프롬프트를 정의\n",
        "from langchain_core.prompts import ChatPromptTemplate\n",
        "\n",
        "#openai와 대화할 수 있게 하는 클래스\n",
        "from langchain_openai import ChatOpenAI"
      ],
      "metadata": {
        "id": "dqCBJsnfvOh5"
      },
      "execution_count": null,
      "outputs": []
    },
    {
      "cell_type": "code",
      "source": [
        "#채팅 모델 정의(openai에 질의응답을 전달할 수 있도록 함)\n",
        "chat_model=ChatOpenAI()\n",
        "\n",
        "#챗프롬프트템플릿\n",
        "#동일한 내용에 대해 전달할 때 {topic}만 변경하면 됨\n",
        "chat_prompt_template=ChatPromptTemplate.from_template('tell me a short joke about {topic}')\n",
        "\n",
        "#콘텐츠만 추출하도록 도와주는\n",
        "output_parser=StrOutputParser()\n",
        "\n",
        "#response=chat_model.invoke(messages)\n",
        "#print(response.content)\n",
        "\n",
        "#체인정의\n",
        "#내가 물어볼 질문의 구조를 미리 짜놓음 -> 모델에 집어넣기 -> 내용만 추출\n",
        "chain=chat_prompt_template| chat_model| output_parser\n",
        "\n",
        "chain.invoke({'topic':'programmer'})"
      ],
      "metadata": {
        "id": "3af9HumUvOeu"
      },
      "execution_count": null,
      "outputs": []
    },
    {
      "cell_type": "code",
      "source": [
        "#챗프롬프트템플릿\n",
        "#동일한 내용에 대애 전달할 때 {topic}만 변경하면 됨\n",
        "chat_prompt_template=ChatPromptTemplate.from_template('please explain the {city} history.')\n",
        "\n",
        "chain=chat_prompt_template |ChatOpenAI() |StrOutputParser()\n",
        "chain.invoke({'city':'seoul'})"
      ],
      "metadata": {
        "id": "uaLYWXJMvOcB"
      },
      "execution_count": null,
      "outputs": []
    },
    {
      "cell_type": "markdown",
      "source": [
        "## Runnable 객체\n",
        "\n",
        "- RunnablePassthrough: 입력값을 -출력값으로 전달\n",
        "- RunnableParaller: 여러개의 Runnable을 병렬로 실행\n",
        "- RunnableLambda : 람다 함수나, 임의의 함수를 사용할 수 있게 감싸줌"
      ],
      "metadata": {
        "id": "IymvAT-t2Tc2"
      }
    },
    {
      "cell_type": "code",
      "source": [
        "from langchain_core.runnables import RunnablePassthrough,RunnableParallel,RunnableLambda"
      ],
      "metadata": {
        "id": "1xG5kobKvOZR"
      },
      "execution_count": null,
      "outputs": []
    },
    {
      "cell_type": "code",
      "source": [
        "chat_prompt_template=ChatPromptTemplate.from_template(\"what's your favortite {thing}\")\n",
        "\n",
        "chat_model=ChatOpenAI()\n",
        "output_parser=StrOutputParser()\n",
        "\n",
        "#체인의 순서가 바뀌어도 되는가?no\n",
        "chain={'thing':RunnablePassthrough()}|chat_prompt_template | chat_model | output_parser"
      ],
      "metadata": {
        "id": "7ZUCP0BYvOWj"
      },
      "execution_count": null,
      "outputs": []
    },
    {
      "cell_type": "code",
      "source": [
        "chain.invoke('color')"
      ],
      "metadata": {
        "id": "ZYYUVaKnvOT9"
      },
      "execution_count": null,
      "outputs": []
    },
    {
      "cell_type": "code",
      "source": [
        "chain.invoke('flower')"
      ],
      "metadata": {
        "id": "w1EWl2HIVElH"
      },
      "execution_count": null,
      "outputs": []
    },
    {
      "cell_type": "code",
      "source": [
        "chat_prompt_template=ChatPromptTemplate.from_template(\"what's your favortite {thing}\")\n",
        "\n",
        "chat_model=ChatOpenAI()\n",
        "output_parser=StrOutputParser()\n",
        "\n",
        "#체인의 순서가 바뀌어도 되는가?no\n",
        "chain=RunnablePassthrough()|chat_prompt_template | chat_model | output_parser\n",
        "chain.invoke({'thing':'city'})"
      ],
      "metadata": {
        "id": "HJp00oGevORe"
      },
      "execution_count": null,
      "outputs": []
    },
    {
      "cell_type": "markdown",
      "source": [
        "###러너블 객체 활용하기\n",
        "\n",
        "1. 객체 방식으로 접근하기\n",
        "\n",
        "    #### dunder메서드(매직메서드->__)\n",
        "    chain=a.__or__(b)\n",
        "    __init__\n",
        "\n",
        "2. 파이프라인 문법으로 접근하기\n",
        "    - chain=a | b\n"
      ],
      "metadata": {
        "id": "391blLSp8ybm"
      }
    },
    {
      "cell_type": "code",
      "source": [
        "#Runnable이라는 객체 Runnable()\n",
        "#내가 만든 함수를 Runnable 체인 사이에 끼우고 싶어!\n",
        "class Runnable:\n",
        "    #class가 처음 정의될 때\n",
        "    #runnable을 만들때, 함수를 하나 전달해서 함수를 'runnable'객체로 만드는 과정\n",
        "    #굳이 왜? 체인에 포함시키고 싶어서\n",
        "    def __init__(self,func):\n",
        "        self.func=func\n",
        "\n",
        "    #chain 문법을 사용하기 위해\n",
        "    #함수a | 함수b\n",
        "    def __or__(self,other):\n",
        "\n",
        "        #*args=어떤 파라미터를 전해주던지, 받아들일 수 있게\n",
        "        #어떤 파라미터를 얼마나 넣을지 모름\n",
        "        def chained_func(*args,**kwars):\n",
        "            return other(self.func(*args,**kwars))\n",
        "\n",
        "        return Runnable(chained_func)\n",
        "\n",
        "    #호출 가능하도록\n",
        "    def __call__(self,*args,**kwars):\n",
        "        return self.func(*args,**kwars)"
      ],
      "metadata": {
        "id": "MS3R24SK8VJi"
      },
      "execution_count": null,
      "outputs": []
    },
    {
      "cell_type": "markdown",
      "source": [
        "####*args,**kwars 설명\n"
      ],
      "metadata": {
        "id": "a1EcLbKgey2k"
      }
    },
    {
      "cell_type": "code",
      "source": [
        "#*args,**kwars 설명\n",
        "def add(*args):\n",
        "    for a in args:\n",
        "        print(a)"
      ],
      "metadata": {
        "id": "2I8IWngr8VCV"
      },
      "execution_count": null,
      "outputs": []
    },
    {
      "cell_type": "code",
      "source": [
        "add(1,2,'string') #모든 걸 다 받아줌/뭘, 얼마나 줄지 모름"
      ],
      "metadata": {
        "id": "iRUu1A9pvOOj"
      },
      "execution_count": null,
      "outputs": []
    },
    {
      "cell_type": "code",
      "source": [
        "#키워드 알규먼트\n",
        "#키워드 몇개에 집어넣을거임\n",
        "def pr(**kwargs):\n",
        "    for k,v in kwargs.items():\n",
        "        print(f\"{k}={v}\")"
      ],
      "metadata": {
        "id": "P2UNyvJfvOLa"
      },
      "execution_count": null,
      "outputs": []
    },
    {
      "cell_type": "code",
      "source": [
        "pr(a=1)"
      ],
      "metadata": {
        "id": "QdjsrnCA6sNd"
      },
      "execution_count": null,
      "outputs": []
    },
    {
      "cell_type": "code",
      "source": [
        "def add_five(x):\n",
        "    return x+5\n",
        "\n",
        "def multiply_by_two(x):\n",
        "    return x*2"
      ],
      "metadata": {
        "id": "zZoCFnsz6sDa"
      },
      "execution_count": null,
      "outputs": []
    },
    {
      "cell_type": "markdown",
      "source": [
        "###Runnable 사용"
      ],
      "metadata": {
        "id": "gy5H5FA4fIAY"
      }
    },
    {
      "cell_type": "code",
      "source": [
        "add_five=Runnable(add_five)\n",
        "multiply_by_two=Runnable(multiply_by_two)"
      ],
      "metadata": {
        "id": "n3tdqcuv6r9x"
      },
      "execution_count": null,
      "outputs": []
    },
    {
      "cell_type": "code",
      "source": [
        "#|으로 연결해서 하나의 함수로 생성\n",
        "chain=add_five | multiply_by_two\n",
        "chain(3)"
      ],
      "metadata": {
        "id": "5Ei7CFBR6r6w"
      },
      "execution_count": null,
      "outputs": []
    },
    {
      "cell_type": "code",
      "source": [
        "chain=add_five.__or__(multiply_by_two)\n",
        "chain(3)"
      ],
      "metadata": {
        "id": "o0PcYBDQ6r4I"
      },
      "execution_count": null,
      "outputs": []
    },
    {
      "cell_type": "code",
      "source": [
        "#파이프라인, or은 결과가 동일함"
      ],
      "metadata": {
        "id": "8MwJo8rl7Uvu"
      },
      "execution_count": null,
      "outputs": []
    },
    {
      "cell_type": "markdown",
      "source": [
        "###RunnablePassthrough\n"
      ],
      "metadata": {
        "id": "y0aL6JUkEGcP"
      }
    },
    {
      "cell_type": "code",
      "source": [
        "from langchain_core.runnables import RunnablePassthrough\n",
        "\n",
        "templates='Please generate three sentences in a dialougue in {lang} on the topic {topic}'\n",
        "\n",
        "#내가 묻고싶은 뼈대구성\n",
        "chat_prompt_template=ChatPromptTemplate.from_template(templates)\n",
        "\n",
        "#뼈대를 모델에 넣고 내용만 추출하게끔\n",
        "chain=chat_prompt_template | chat_model | StrOutputParser()\n",
        "\n",
        "#뼈대에 내가 묻고싶은 거 넣기\n",
        "output=chain.invoke({\"lang\":\"french\",\"topic\":\"vacance\"})\n",
        "print(output)"
      ],
      "metadata": {
        "id": "XG5dGph3CMsY"
      },
      "execution_count": null,
      "outputs": []
    },
    {
      "cell_type": "code",
      "source": [
        "#_ : 매개변수가 뭐가 들어오던지 'french'를 내보내\n",
        "def return_lang(_):\n",
        "    return 'french'\n",
        "\n",
        "def return_topic(_):\n",
        "    return 'olympic'"
      ],
      "metadata": {
        "id": "O9vr0beoF3gP"
      },
      "execution_count": null,
      "outputs": []
    },
    {
      "cell_type": "code",
      "source": [
        "#하나만 전달해줄고 나머지는 함수로\n",
        "chain = RunnablePassthrough.assign(lang = return_lang)| chat_prompt_template | chat_model | StrOutputParser()\n",
        "\n",
        "output = chain.invoke({\"topic\" : \"summer\"})\n",
        "print(output)"
      ],
      "metadata": {
        "id": "Ze6rrShnE1Dm"
      },
      "execution_count": null,
      "outputs": []
    },
    {
      "cell_type": "code",
      "source": [],
      "metadata": {
        "id": "_eQg-e-YEQH6"
      },
      "execution_count": null,
      "outputs": []
    },
    {
      "cell_type": "code",
      "source": [],
      "metadata": {
        "id": "7NXyrW32CMi9"
      },
      "execution_count": null,
      "outputs": []
    },
    {
      "cell_type": "code",
      "source": [],
      "metadata": {
        "id": "MOBaQAvDCMaf"
      },
      "execution_count": null,
      "outputs": []
    },
    {
      "cell_type": "code",
      "source": [],
      "metadata": {
        "id": "fL0RyY7nYFRo"
      },
      "execution_count": null,
      "outputs": []
    },
    {
      "cell_type": "code",
      "source": [],
      "metadata": {
        "id": "xgrfKUkZYFKD"
      },
      "execution_count": null,
      "outputs": []
    },
    {
      "cell_type": "code",
      "source": [],
      "metadata": {
        "id": "osWV2lnQYFDP"
      },
      "execution_count": null,
      "outputs": []
    },
    {
      "cell_type": "code",
      "source": [],
      "metadata": {
        "id": "_CreLly3YFAo"
      },
      "execution_count": null,
      "outputs": []
    },
    {
      "cell_type": "code",
      "source": [],
      "metadata": {
        "id": "1TX8lNgyZW1T"
      },
      "execution_count": null,
      "outputs": []
    },
    {
      "cell_type": "code",
      "source": [],
      "metadata": {
        "id": "oNadVQQKZWyB"
      },
      "execution_count": null,
      "outputs": []
    }
  ]
}