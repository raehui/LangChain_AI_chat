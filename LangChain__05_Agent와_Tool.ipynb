{
  "nbformat": 4,
  "nbformat_minor": 0,
  "metadata": {
    "colab": {
      "private_outputs": true,
      "provenance": []
    },
    "kernelspec": {
      "name": "python3",
      "display_name": "Python 3"
    },
    "language_info": {
      "name": "python"
    }
  },
  "cells": [
    {
      "cell_type": "code",
      "execution_count": null,
      "metadata": {
        "collapsed": true,
        "id": "p58DHvsoA5XF"
      },
      "outputs": [],
      "source": [
        "!pip install langchain\n",
        "!pip install openai\n",
        "!pip install -U langchain-community"
      ]
    },
    {
      "cell_type": "code",
      "source": [
        "import os\n",
        "import openai\n",
        "\n",
        "#이전의 방식은 소스코드를 내가 업로드 했을 떄, 다른 사람들이 내 키를 볼 수 있음\n",
        "#'이름'==userdata.get(이름),값=내 open_api_key\n",
        "from google.colab import userdata\n",
        "os.environ['OPENAI_API_KEY']=userdata.get('OPEN_AI_KEY') #('OPEN_AI_KEY')은 변경 가능"
      ],
      "metadata": {
        "id": "jOVRW2yFBPaB"
      },
      "execution_count": null,
      "outputs": []
    },
    {
      "cell_type": "code",
      "source": [
        "import openai\n",
        "from langchain.llms import OpenAI\n",
        "\n",
        "llm_model='gpt-3.5-turbo'\n",
        "llm=OpenAI(temperature=0)"
      ],
      "metadata": {
        "id": "i-tVjxlNBPTM"
      },
      "execution_count": null,
      "outputs": []
    },
    {
      "cell_type": "code",
      "source": [
        "print(llm.predict(\"what is 2.1^2.1?\"))"
      ],
      "metadata": {
        "id": "NS3A1IHQBPL5"
      },
      "execution_count": null,
      "outputs": []
    },
    {
      "cell_type": "code",
      "source": [
        "from langchain.agents import Tool\n",
        "from langchain.chains import LLMMathChain"
      ],
      "metadata": {
        "id": "LBFifpHYBPBi"
      },
      "execution_count": null,
      "outputs": []
    },
    {
      "cell_type": "code",
      "source": [
        "#사용할 모델 정의\n",
        "llm_math=LLMMathChain(llm=llm)\n",
        "\n",
        "math_tool=Tool(\n",
        "    name='calculator',\n",
        "    func=llm_math.run,\n",
        "    description=\"useful for when you need to answer qusetions related to math \"\n",
        ")\n",
        "\n",
        "\n",
        "#에이전트가 사용할 도구 목록 정의\n",
        "tools=[math_tool]"
      ],
      "metadata": {
        "id": "lSWxEaF9CN70"
      },
      "execution_count": null,
      "outputs": []
    },
    {
      "cell_type": "code",
      "source": [
        "from langchain.agents import initialize_agent\n",
        "\n",
        "agent = initialize_agent(\n",
        "    agent = \"zero-shot-react-description\",\n",
        "    tools = tools,\n",
        "    llm=llm,\n",
        "    verbose=False,\n",
        "    max_iteration = 3\n",
        "    )"
      ],
      "metadata": {
        "id": "nfgx03lDCN45"
      },
      "execution_count": null,
      "outputs": []
    },
    {
      "cell_type": "code",
      "source": [
        "print(agent(\"what is 2.1^2.1?\"))"
      ],
      "metadata": {
        "id": "EY2GfU3NCN11"
      },
      "execution_count": null,
      "outputs": []
    },
    {
      "cell_type": "code",
      "source": [
        "#질문!\n",
        "query = \"To when Seoul is the capital city of south korea?\"\n",
        "result = agent(query)\n",
        "print(result)"
      ],
      "metadata": {
        "id": "XyDq5LhcCNys"
      },
      "execution_count": null,
      "outputs": []
    },
    {
      "cell_type": "code",
      "source": [
        "#질문!\n",
        "#수학 질문에 특화되어있음\n",
        "query = \"how old the univers is?\"\n",
        "result = agent(query)\n",
        "print(result)"
      ],
      "metadata": {
        "id": "iSzMu9VjCNwa"
      },
      "execution_count": null,
      "outputs": []
    }
  ]
}