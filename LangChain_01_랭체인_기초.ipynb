{
  "nbformat": 4,
  "nbformat_minor": 0,
  "metadata": {
    "colab": {
      "private_outputs": true,
      "provenance": []
    },
    "kernelspec": {
      "name": "python3",
      "display_name": "Python 3"
    },
    "language_info": {
      "name": "python"
    }
  },
  "cells": [
    {
      "cell_type": "code",
      "execution_count": null,
      "metadata": {
        "id": "vqcZRo7R_SMS",
        "collapsed": true
      },
      "outputs": [],
      "source": [
        "!pip install  openai\n",
        "#langchain 자체 라이브러리\n",
        "#langchain이 오픈소스라 인기 많음\n",
        "!pip install langchain\n",
        "\n",
        "#langchain이 openai를 활용해서 사용하게 하기위한 라이브러리\n",
        "!pip install langchain_openai\n",
        "\n",
        "#사람들이 개발한 langchain 라이브러리\n",
        "!pip install langchain_community"
      ]
    },
    {
      "cell_type": "code",
      "source": [
        "import os\n",
        "import openai\n",
        "\n",
        "#이전의 방식은 소스코드를 내가 업로드 했을 떄, 다른 사람들이 내 키를 볼 수 있음\n",
        "#'이름'==userdata.get(이름),값=내 open_api_key\n",
        "from google.colab import userdata\n",
        "os.environ['OPENAI_API_KEY']=userdata.get('OPEN_AI_KEY')\n",
        "\n",
        "openai.api_key=os.getenv('OPENAI_API_KEY')"
      ],
      "metadata": {
        "id": "L-bsKUhC_kW_"
      },
      "execution_count": null,
      "outputs": []
    },
    {
      "cell_type": "markdown",
      "source": [
        "###1. 랭체인을 활용한 추론"
      ],
      "metadata": {
        "id": "WEwKcZaiAeq5"
      }
    },
    {
      "cell_type": "code",
      "source": [
        "from langchain.llms import OpenAI\n",
        "\n",
        "llm=OpenAI()\n",
        "#user,input\n",
        "prompt=\"안녕하세요!\"\n",
        "\n",
        "#뒤에 예상되는 말을 추론함\n",
        "#언어모델->정답을 주는 모델이 아님\n",
        "#prompt를 openai에 전달하고, 내prompt 뒤에 올 언어를 추측 하는 과정\n",
        "#response에는 prompt뒤에 이어질 말이 온다.\n",
        "response=llm.predict(prompt)\n",
        "print(response)"
      ],
      "metadata": {
        "id": "yAtSl7Xi_kRe"
      },
      "execution_count": null,
      "outputs": []
    },
    {
      "cell_type": "markdown",
      "source": [
        "###2. openAI와의 대화"
      ],
      "metadata": {
        "id": "v8OLr2eRCRnk"
      }
    },
    {
      "cell_type": "code",
      "source": [
        "#OpenAI 사의 채팅 전용 Large Language Model(llm)\n",
        "#응답구조\n",
        "from langchain_openai import ChatOpenAI\n",
        "\n",
        "chat_model=ChatOpenAI()\n",
        "prompt=\"안녕하세요!\"\n",
        "\n",
        "response=chat_model.predict(prompt)\n",
        "print(response)"
      ],
      "metadata": {
        "id": "ECoTbJcC_kMt"
      },
      "execution_count": null,
      "outputs": []
    },
    {
      "cell_type": "markdown",
      "source": [
        "###3. 상황과 맥락을 설정해주기"
      ],
      "metadata": {
        "id": "sTCSkFWtC9LF"
      }
    },
    {
      "cell_type": "code",
      "source": [
        "from langchain_openai import ChatOpenAI\n",
        "from langchain.schema import HumanMessage\n",
        "\n",
        "chat_model=ChatOpenAI()\n",
        "user_message=\"예쁜 술집 내려고 해. 좋은 이름 추천해줘\"\n",
        "\n",
        "#`AIMessage`는 AI가 생성한 메시지, `HumanMessage`는 사용자가 입력한 메시지\n",
        "messages=[\n",
        "    HumanMessage(content=user_message)\n",
        "\n",
        "]\n",
        "response=chat_model.invoke(messages)\n",
        "#print(response)\n",
        "print(response.content)"
      ],
      "metadata": {
        "id": "ugSnyJqD_kHn"
      },
      "execution_count": null,
      "outputs": []
    },
    {
      "cell_type": "code",
      "source": [
        "#기존 포맷과 랭체인의 포맷을 양식 비교하기\n",
        "from langchain_openai import ChatOpenAI\n",
        "from langchain.schema import HumanMessage,AIMessage,SystemMessage\n",
        "\n",
        "chat_model=ChatOpenAI()\n",
        "\n",
        "user_message=\"예쁜 술집 내려고 해. 좋은 이름 추천해줘\"\n",
        "messages=[\n",
        "    HumanMessage(content=user_message),\n",
        "    #SystemMessage AI에게 해야 할 일을 알려주는 배경 컨텍스트\n",
        "    SystemMessage(content='너는 센스가 넘치는 20대 MZ사장님이야.힙한 이름 추천해줘')\n",
        "]\n",
        "\n",
        "response=chat_model.invoke(messages)\n",
        "print(response.content)"
      ],
      "metadata": {
        "id": "qian-NsR_kA2"
      },
      "execution_count": null,
      "outputs": []
    },
    {
      "cell_type": "code",
      "source": [
        "#바깥에서 어시스턴트를 해주는 친구 langchain"
      ],
      "metadata": {
        "id": "jw-UZAZK_j7D"
      },
      "execution_count": null,
      "outputs": []
    },
    {
      "cell_type": "code",
      "source": [],
      "metadata": {
        "id": "9rqNDvoS_j1m"
      },
      "execution_count": null,
      "outputs": []
    },
    {
      "cell_type": "code",
      "source": [],
      "metadata": {
        "id": "cYsTuRHK_jwC"
      },
      "execution_count": null,
      "outputs": []
    },
    {
      "cell_type": "code",
      "source": [],
      "metadata": {
        "id": "aQr47Zvi_jpD"
      },
      "execution_count": null,
      "outputs": []
    },
    {
      "cell_type": "code",
      "source": [],
      "metadata": {
        "id": "9gUagU1kAcJ4"
      },
      "execution_count": null,
      "outputs": []
    },
    {
      "cell_type": "code",
      "source": [],
      "metadata": {
        "id": "TFRX3Q-KAcEI"
      },
      "execution_count": null,
      "outputs": []
    },
    {
      "cell_type": "code",
      "source": [],
      "metadata": {
        "id": "69v3--dfAb_F"
      },
      "execution_count": null,
      "outputs": []
    },
    {
      "cell_type": "code",
      "source": [],
      "metadata": {
        "id": "5Kr7mvigAmpI"
      },
      "execution_count": null,
      "outputs": []
    }
  ]
}